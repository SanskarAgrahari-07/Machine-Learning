{
  "nbformat": 4,
  "nbformat_minor": 0,
  "metadata": {
    "colab": {
      "provenance": [],
      "authorship_tag": "ABX9TyPLyTg/wRWbpN2IzkrbbgsF",
      "include_colab_link": true
    },
    "kernelspec": {
      "name": "python3",
      "display_name": "Python 3"
    },
    "language_info": {
      "name": "python"
    }
  },
  "cells": [
    {
      "cell_type": "markdown",
      "metadata": {
        "id": "view-in-github",
        "colab_type": "text"
      },
      "source": [
        "<a href=\"https://colab.research.google.com/github/SanskarAgrahari-07/Machine-Learning/blob/main/Machine_Learning.ipynb\" target=\"_parent\"><img src=\"https://colab.research.google.com/assets/colab-badge.svg\" alt=\"Open In Colab\"/></a>"
      ]
    },
    {
      "cell_type": "code",
      "source": [
        "def calculateSum(arr,target):\n",
        "  count=0\n",
        "  for i in arr:\n",
        "    num = target - i\n",
        "    if num in arr and num != i:\n",
        "      count+=1\n",
        "  return count\n",
        "\n",
        "\n",
        "arr = [2,7,4,1,3,6]\n",
        "target = 10\n",
        "pair = calculateSum(arr, target)\n",
        "print(\"The total number of pairs are \",pair )\n"
      ],
      "metadata": {
        "id": "D5D9vn2EIeq1"
      },
      "execution_count": null,
      "outputs": []
    },
    {
      "cell_type": "code",
      "source": [
        "def difference(arr):\n",
        "  if (len(arr) <=  3 ):\n",
        "    return -1\n",
        "  # maximum = max(arr)\n",
        "  # return max(arr) - min(arr)\n",
        "  maximum = max(arr)\n",
        "  minimum = min(arr)\n",
        "  return (int(maximum) - int(minimum))\n",
        "\n",
        "list_size = int(input(\"Enter the size of the list \"))\n",
        "arr = []\n",
        "\n",
        "for i in range(list_size):\n",
        "  element = input(f\"Enter element {i+1}: \")\n",
        "  arr.append(element)\n",
        "\n",
        "range1 = difference(arr)\n",
        "if range1 <= 0:\n",
        "  print(\"Range determination not possible\")\n",
        "else:\n",
        "  print(\"The range of the list is \", range1)\n",
        "\n",
        "# print(real_list)"
      ],
      "metadata": {
        "id": "QLkpD6ISM9LW",
        "colab": {
          "base_uri": "https://localhost:8080/"
        },
        "outputId": "0efed980-870e-4bb1-db59-66b64305374d"
      },
      "execution_count": 2,
      "outputs": [
        {
          "output_type": "stream",
          "name": "stdout",
          "text": [
            "Enter the size of the list 2\n",
            "Enter element 1: 2\n",
            "Enter element 2: 5\n",
            "Range determination not possible\n"
          ]
        }
      ]
    },
    {
      "cell_type": "code",
      "source": [
        "def matrix_multiply(A, B):\n",
        "    n = len(A)\n",
        "    C = [[0] * n for _ in range(n)]\n",
        "    for i in range(n):\n",
        "        for j in range(n):\n",
        "            for k in range(n):\n",
        "                C[i][j] += A[i][k] * B[k][j]\n",
        "    return C\n",
        "\n",
        "def matrix_power(A, m):\n",
        "    n = len(A)\n",
        "\n",
        "    result = [[1 if i == j else 0 for j in range(n)] for i in range(n)]\n",
        "\n",
        "    base = A\n",
        "\n",
        "    while m > 0:\n",
        "        if m % 2 == 1:\n",
        "            result = matrix_multiply(result, base)\n",
        "        base = matrix_multiply(base, base)\n",
        "        m //= 2\n",
        "\n",
        "    return result\n",
        "\n",
        "A = [[1, 2],\n",
        "     [3, 4]]\n",
        "m = 3\n",
        "\n",
        "result = matrix_power(A, m)\n",
        "for row in result:\n",
        "    print(row)\n"
      ],
      "metadata": {
        "id": "rXHshIJEv4Z3",
        "colab": {
          "base_uri": "https://localhost:8080/"
        },
        "outputId": "b3138006-22da-4414-b963-5e8e5f444731"
      },
      "execution_count": 1,
      "outputs": [
        {
          "output_type": "stream",
          "name": "stdout",
          "text": [
            "[37, 54]\n",
            "[81, 118]\n"
          ]
        }
      ]
    },
    {
      "cell_type": "code",
      "source": [
        "def highest_occurrence_char(s):\n",
        "    char_count = {}\n",
        "    for char in s:\n",
        "        if char != ' ':\n",
        "            char_count[char] = char_count.get(char, 0) + 1\n",
        "\n",
        "    max_count = max(char_count.values())\n",
        "    max_char = [char for char, count in char_count.items() if count == max_count]\n",
        "\n",
        "    print(\"The character with the maximum occurrence in the string is\", max_char, \"appearing\", max_count, \"times.\")\n",
        "\n",
        "s = input(\"Enter a string: \")\n",
        "highest_occurrence_char(s)\n",
        "\n"
      ],
      "metadata": {
        "colab": {
          "base_uri": "https://localhost:8080/"
        },
        "id": "VEym-cWU_NlH",
        "outputId": "4638b671-f477-4af1-90ab-aa869c1f3dfa"
      },
      "execution_count": null,
      "outputs": [
        {
          "output_type": "stream",
          "name": "stdout",
          "text": [
            "Enter a string: hippopotamus\n",
            "The character with the maximum occurrence in the string is ['p'] appearing 3 times.\n"
          ]
        }
      ]
    }
  ]
}