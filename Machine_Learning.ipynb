{
  "nbformat": 4,
  "nbformat_minor": 0,
  "metadata": {
    "colab": {
      "provenance": [],
      "authorship_tag": "ABX9TyN1ywu3ERO6Fu65NmEXo55g",
      "include_colab_link": true
    },
    "kernelspec": {
      "name": "python3",
      "display_name": "Python 3"
    },
    "language_info": {
      "name": "python"
    }
  },
  "cells": [
    {
      "cell_type": "markdown",
      "metadata": {
        "id": "view-in-github",
        "colab_type": "text"
      },
      "source": [
        "<a href=\"https://colab.research.google.com/github/SanskarAgrahari-07/Machine-Learning/blob/main/Machine_Learning.ipynb\" target=\"_parent\"><img src=\"https://colab.research.google.com/assets/colab-badge.svg\" alt=\"Open In Colab\"/></a>"
      ]
    },
    {
      "cell_type": "code",
      "source": [
        "def calculateSum(arr,target):\n",
        "  count=0\n",
        "  for i in arr:\n",
        "    num = target - i\n",
        "    if num in arr and num != i:\n",
        "      count+=1\n",
        "  return count\n",
        "\n",
        "\n",
        "arr = [2,7,4,1,3,6]\n",
        "target = 10\n",
        "pair = calculateSum(arr, target)\n",
        "print(\"The total number of pairs are \",pair )\n"
      ],
      "metadata": {
        "id": "D5D9vn2EIeq1"
      },
      "execution_count": null,
      "outputs": []
    },
    {
      "cell_type": "code",
      "source": [
        "def difference(arr):\n",
        "  if (len(arr) <=  3 ):\n",
        "    return -1\n",
        "  # maximum = max(arr)\n",
        "  # return max(arr) - min(arr)\n",
        "  maximum = max(arr)\n",
        "  minimum = min(arr)\n",
        "  return (int(maximum) - int(minimum))\n",
        "\n",
        "list_size = int(input(\"Enter the size of the list \"))\n",
        "arr = []\n",
        "\n",
        "for i in range(list_size):\n",
        "  element = input(f\"Enter element {i+1}: \")\n",
        "  arr.append(element)\n",
        "\n",
        "range1 = difference(arr)\n",
        "if range1 <= 0:\n",
        "  print(\"Range determination not possible\")\n",
        "else:\n",
        "  print(\"The range of the list is \", range1)\n",
        "\n",
        "# print(real_list)"
      ],
      "metadata": {
        "id": "QLkpD6ISM9LW"
      },
      "execution_count": null,
      "outputs": []
    },
    {
      "cell_type": "code",
      "source": [
        "row = int(input(\"Enter the size of the row\"))\n",
        "column = int(input(\"Enter the size of the column\"))\n",
        "matrix = []\n",
        "if (row != column):\n",
        "  print(\"It is not a square matrix\")\n",
        "else:\n",
        "  print(\"Enter the elements of the matrix: \")\n",
        "  for i in range(row):\n",
        "    a = []\n",
        "    for j in range(column):\n",
        "      a.append(int(input()))\n",
        "    matrix.append(a)\n",
        "\n",
        "  m = int(input(\"Enter a positive integer\"))\n",
        "\n",
        "\n",
        "def powerMatrix(matrix , m):\n",
        "\n"
      ],
      "metadata": {
        "id": "rXHshIJEv4Z3"
      },
      "execution_count": null,
      "outputs": []
    },
    {
      "cell_type": "code",
      "source": [
        "def highest_occurrence_char(s):\n",
        "    char_count = {}\n",
        "    for char in s:\n",
        "        if char != ' ':\n",
        "            char_count[char] = char_count.get(char, 0) + 1\n",
        "\n",
        "    max_count = max(char_count.values())\n",
        "    max_char = [char for char, count in char_count.items() if count == max_count]\n",
        "\n",
        "    print(\"The character with the maximum occurrence in the string is\", max_char, \"appearing\", max_count, \"times.\")\n",
        "\n",
        "s = input(\"Enter a string: \")\n",
        "highest_occurrence_char(s)\n",
        "\n"
      ],
      "metadata": {
        "colab": {
          "base_uri": "https://localhost:8080/"
        },
        "id": "VEym-cWU_NlH",
        "outputId": "4638b671-f477-4af1-90ab-aa869c1f3dfa"
      },
      "execution_count": 11,
      "outputs": [
        {
          "output_type": "stream",
          "name": "stdout",
          "text": [
            "Enter a string: hippopotamus\n",
            "The character with the maximum occurrence in the string is ['p'] appearing 3 times.\n"
          ]
        }
      ]
    }
  ]
}