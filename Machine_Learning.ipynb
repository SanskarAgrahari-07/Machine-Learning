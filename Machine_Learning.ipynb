{
  "nbformat": 4,
  "nbformat_minor": 0,
  "metadata": {
    "colab": {
      "provenance": [],
      "authorship_tag": "ABX9TyOUuk291oX7mfirua1lOzha",
      "include_colab_link": true
    },
    "kernelspec": {
      "name": "python3",
      "display_name": "Python 3"
    },
    "language_info": {
      "name": "python"
    }
  },
  "cells": [
    {
      "cell_type": "markdown",
      "metadata": {
        "id": "view-in-github",
        "colab_type": "text"
      },
      "source": [
        "<a href=\"https://colab.research.google.com/github/SanskarAgrahari-07/Machine-Learning/blob/main/Machine_Learning.ipynb\" target=\"_parent\"><img src=\"https://colab.research.google.com/assets/colab-badge.svg\" alt=\"Open In Colab\"/></a>"
      ]
    },
    {
      "cell_type": "code",
      "source": [
        "def calculateSum(arr,target):\n",
        "  count=0\n",
        "  for i in arr:\n",
        "    num = target - i\n",
        "    if num in arr and num != i:\n",
        "      count+=1\n",
        "  return count\n",
        "\n",
        "\n",
        "arr = [2,7,4,1,3,6]\n",
        "target = 10\n",
        "pair = calculateSum(arr, target)\n",
        "print(\"The total number of pairs are \",pair )\n"
      ],
      "metadata": {
        "colab": {
          "base_uri": "https://localhost:8080/"
        },
        "id": "D5D9vn2EIeq1",
        "outputId": "6fa972f3-18de-438f-ef54-17a5629087e3"
      },
      "execution_count": null,
      "outputs": [
        {
          "output_type": "stream",
          "name": "stdout",
          "text": [
            "The total number of pairs are  4\n"
          ]
        }
      ]
    },
    {
      "cell_type": "code",
      "source": [
        "def difference(arr):\n",
        "  if (len(arr) <=  3 ):\n",
        "    return -1\n",
        "  # maximum = max(arr)\n",
        "  # return max(arr) - min(arr)\n",
        "  maximum = max(arr)\n",
        "  minimum = min(arr)\n",
        "  return (int(maximum) - int(minimum))\n",
        "\n",
        "list_size = int(input(\"Enter the size of the list \"))\n",
        "arr = []\n",
        "\n",
        "for i in range(list_size):\n",
        "  element = input(f\"Enter element {i+1}: \")\n",
        "  arr.append(element)\n",
        "\n",
        "range1 = difference(arr)\n",
        "if range1 <= 0:\n",
        "  print(\"Range determination not possible\")\n",
        "else:\n",
        "  print(\"The range of the list is \", range1)\n",
        "\n",
        "# print(real_list)"
      ],
      "metadata": {
        "colab": {
          "base_uri": "https://localhost:8080/"
        },
        "id": "QLkpD6ISM9LW",
        "outputId": "d05593b7-5202-437c-f76b-1eebaff947f9"
      },
      "execution_count": null,
      "outputs": [
        {
          "output_type": "stream",
          "name": "stdout",
          "text": [
            "Enter the size of the list 5\n",
            "Enter element 1: 1\n",
            "Enter element 2: 2\n",
            "Enter element 3: 3\n",
            "Enter element 4: 4\n",
            "Enter element 5: 5\n",
            "The range of the list is  4\n"
          ]
        }
      ]
    }
  ]
}