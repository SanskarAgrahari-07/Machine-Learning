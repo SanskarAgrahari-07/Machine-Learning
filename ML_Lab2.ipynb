{
  "nbformat": 4,
  "nbformat_minor": 0,
  "metadata": {
    "colab": {
      "provenance": [],
      "authorship_tag": "ABX9TyOsgqY6au2g97ITHDq4tNUL",
      "include_colab_link": true
    },
    "kernelspec": {
      "name": "python3",
      "display_name": "Python 3"
    },
    "language_info": {
      "name": "python"
    }
  },
  "cells": [
    {
      "cell_type": "markdown",
      "metadata": {
        "id": "view-in-github",
        "colab_type": "text"
      },
      "source": [
        "<a href=\"https://colab.research.google.com/github/SanskarAgrahari-07/Machine-Learning/blob/main/ML_Lab2.ipynb\" target=\"_parent\"><img src=\"https://colab.research.google.com/assets/colab-badge.svg\" alt=\"Open In Colab\"/></a>"
      ]
    },
    {
      "cell_type": "code",
      "execution_count": 21,
      "metadata": {
        "id": "jbhPerMcU-1O",
        "colab": {
          "base_uri": "https://localhost:8080/"
        },
        "outputId": "68266127-dbf1-4674-f41e-8616756135d7"
      },
      "outputs": [
        {
          "output_type": "stream",
          "name": "stdout",
          "text": [
            "   Candies (#)  Mangoes (Kg)  Milk Packets (#)  Payment (Rs)\n",
            "0           20             6                 2           386\n",
            "1           16             3                 6           289\n",
            "2           27             6                 2           393\n",
            "3           19             1                 2           110\n",
            "4           24             4                 2           280\n",
            "5           22             1                 5           167\n",
            "6           15             4                 2           271\n",
            "7           18             4                 2           274\n",
            "8           21             1                 4           148\n",
            "9           16             2                 4           198\n",
            "   Candies (#)  Mangoes (Kg)  Milk Packets (#)\n",
            "0           20             6                 2\n",
            "1           16             3                 6\n",
            "2           27             6                 2\n",
            "3           19             1                 2\n",
            "4           24             4                 2\n",
            "5           22             1                 5\n",
            "6           15             4                 2\n",
            "7           18             4                 2\n",
            "8           21             1                 4\n",
            "9           16             2                 4\n",
            "\n",
            "0    386\n",
            "1    289\n",
            "2    393\n",
            "3    110\n",
            "4    280\n",
            "5    167\n",
            "6    271\n",
            "7    274\n",
            "8    148\n",
            "9    198\n",
            "Name: Payment (Rs), dtype: int64\n",
            "\n",
            "The dimension of Matrix A is (10, 3)\n",
            "The dimension of Matrix C is  (10,)\n",
            "The number of vectors in A is  10\n",
            "The number of vectors in C is  10\n",
            "The rank of matrix A is  3\n"
          ]
        }
      ],
      "source": [
        "import pandas as pd\n",
        "import numpy as np\n",
        "\n",
        "df = pd.read_excel('Lab Session Data.xlsx')\n",
        "\n",
        "data = df.iloc[0:12, 1:5]\n",
        "\n",
        "A = data.iloc[:, :-1]\n",
        "C = data.iloc[:, -1]\n",
        "\n",
        "print(data)\n",
        "print(A)\n",
        "print()\n",
        "print(C)\n",
        "print()\n",
        "\n",
        "dim_A = np.shape(A)\n",
        "dim_C = np.shape(C)\n",
        "\n",
        "print(\"The dimension of Matrix A is\", dim_A)\n",
        "print(\"The dimension of Matrix C is \", dim_C)\n",
        "\n",
        "vectors_A = A.shape[0]\n",
        "vectors_C = C.shape[0]\n",
        "\n",
        "print(\"The number of vectors in A is \",vectors_A)\n",
        "print(\"The number of vectors in C is \",vectors_C)\n",
        "\n",
        "rank_A = np.linalg.matrix_rank(A)\n",
        "print(\"The rank of matrix A is \",rank_A)\n",
        "\n",
        "\n",
        "\n"
      ]
    }
  ]
}